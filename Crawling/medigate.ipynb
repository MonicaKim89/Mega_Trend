{
 "cells": [
  {
   "cell_type": "code",
   "execution_count": 1,
   "metadata": {},
   "outputs": [],
   "source": [
    "from selenium import webdriver\n",
    "from selenium.webdriver.common.keys import Keys\n",
    "from selenium.webdriver.support.ui import WebDriverWait\n",
    "from selenium.common.exceptions import NoSuchElementException\n",
    "import selenium.common.exceptions as sex\n",
    "\n",
    "import pandas as pd\n",
    "import numpy as np\n",
    "\n",
    "from bs4 import BeautifulSoup\n",
    "import lxml\n",
    "\n",
    "import time\n",
    "from time import sleep\n",
    "import random\n",
    "import re"
   ]
  },
  {
   "cell_type": "code",
   "execution_count": 2,
   "metadata": {},
   "outputs": [
    {
     "name": "stderr",
     "output_type": "stream",
     "text": [
      "C:\\Users\\yukir\\AppData\\Local\\Temp/ipykernel_15428/222092032.py:2: DeprecationWarning: executable_path has been deprecated, please pass in a Service object\n",
      "  driver = webdriver.Chrome(path)\n"
     ]
    }
   ],
   "source": [
    "path = \"C:\\\\chromedriver.exe\"\n",
    "driver = webdriver.Chrome(path)\n",
    "driver.implicitly_wait(5)\n",
    "\n",
    "start_url = \"https://www.medigatenews.com/etc/search?keyword=%EB%B0%B1%EC%8B%A0\"\n",
    "driver.get(start_url)"
   ]
  },
  {
   "cell_type": "code",
   "execution_count": 3,
   "metadata": {},
   "outputs": [
    {
     "name": "stderr",
     "output_type": "stream",
     "text": [
      "C:\\Users\\yukir\\AppData\\Local\\Temp/ipykernel_15428/3057496518.py:6: DeprecationWarning: find_element_by_* commands are deprecated. Please use find_element() instead\n",
      "  body = driver.find_element_by_tag_name('body')\n",
      "C:\\Users\\yukir\\AppData\\Local\\Temp/ipykernel_15428/3057496518.py:19: DeprecationWarning: find_element_by_* commands are deprecated. Please use find_element() instead\n",
      "  driver.find_element_by_xpath('//*[@id=\"news_gisa_more_btn\"]/button').click()\n"
     ]
    },
    {
     "name": "stdout",
     "output_type": "stream",
     "text": [
      "완료\n"
     ]
    }
   ],
   "source": [
    "#무한으로 내려감\n",
    "import time\n",
    "SCROLL_PAUSE_TIME = 0.3\n",
    "# 한번 스크롤 하고 멈출 시간 설정\n",
    "\n",
    "body = driver.find_element_by_tag_name('body')\n",
    "# body태그를 선택하여 body에 넣음\n",
    "\n",
    "while True:\n",
    "    last_height = driver.execute_script('return document.documentElement.scrollHeight')\n",
    "    # 현재 화면의 길이를 리턴 받아 last_height에 넣음\n",
    "    for i in range(4):\n",
    "        body.send_keys(Keys.END)\n",
    "        # body 본문에 END키를 입력(스크롤내림)\n",
    "        time.sleep(SCROLL_PAUSE_TIME)\n",
    "    new_height = driver.execute_script('return document.documentElement.scrollHeight')\n",
    "    try:\n",
    "        if new_height == last_height:\n",
    "            driver.find_element_by_xpath('//*[@id=\"news_gisa_more_btn\"]/button').click()\n",
    "\n",
    "    except:\n",
    "        print('완료')\n",
    "        break;\n",
    "    "
   ]
  },
  {
   "cell_type": "code",
   "execution_count": 26,
   "metadata": {},
   "outputs": [],
   "source": [
    "page = driver.page_source\n",
    "soup = BeautifulSoup(page, 'html.parser')"
   ]
  },
  {
   "cell_type": "code",
   "execution_count": 5,
   "metadata": {},
   "outputs": [],
   "source": [
    "urls = soup.find_all('li', attrs ={'class':'contlst thumb horizontal'} )\n",
    "\n",
    "address_list = []\n",
    "for i in urls:\n",
    "    address = i.a['href']\n",
    "    address = 'https://www.medigatenews.com'+address\n",
    "    # if 'category' in address:\n",
    "    #     pass\n",
    "    # elif 'topic' in address:\n",
    "    #     pass\n",
    "    # else:\n",
    "    #     address_list.append(address)\n",
    "\n",
    "    address_list.append(address)\n",
    "        "
   ]
  },
  {
   "cell_type": "code",
   "execution_count": 6,
   "metadata": {},
   "outputs": [],
   "source": [
    "nope_list = ['인기 키워드 순위', '의사를 위한 맞춤 기사', '제약 중심 맞춤 기사','의료 중심 맞춤 기사','칼럼/MG툰',\\\n",
    "    'English News','자료실','사람들']\n",
    "\n",
    "title = soup.find_all('p', class_='titxt')\n",
    "title_list = []\n",
    "for i in title:\n",
    "    title_ = i.text\n",
    "    if title_  in nope_list:\n",
    "        # print(title_ )\n",
    "        pass\n",
    "    elif len(title_)==0:\n",
    "        pass\n",
    "    else:\n",
    "        title_list.append(title_)"
   ]
  },
  {
   "cell_type": "code",
   "execution_count": 7,
   "metadata": {},
   "outputs": [],
   "source": [
    "dates = soup.find_all('span', class_='date')\n",
    "dates_list = []\n",
    "for i in dates:\n",
    "    dates_ = i.text\n",
    "    dates_list.append(dates_)"
   ]
  },
  {
   "cell_type": "code",
   "execution_count": 8,
   "metadata": {},
   "outputs": [
    {
     "name": "stdout",
     "output_type": "stream",
     "text": [
      "1230\n",
      "1230\n",
      "1230\n"
     ]
    }
   ],
   "source": [
    "print(len(address_list))\n",
    "print(len(title_list))\n",
    "print(len(dates_list))"
   ]
  },
  {
   "cell_type": "code",
   "execution_count": 9,
   "metadata": {},
   "outputs": [],
   "source": [
    "medi_gates = pd.DataFrame({'title':title_list, 'dates':dates_list, 'address': address_list})"
   ]
  },
  {
   "cell_type": "code",
   "execution_count": 10,
   "metadata": {},
   "outputs": [
    {
     "data": {
      "text/html": [
       "<div>\n",
       "<style scoped>\n",
       "    .dataframe tbody tr th:only-of-type {\n",
       "        vertical-align: middle;\n",
       "    }\n",
       "\n",
       "    .dataframe tbody tr th {\n",
       "        vertical-align: top;\n",
       "    }\n",
       "\n",
       "    .dataframe thead th {\n",
       "        text-align: right;\n",
       "    }\n",
       "</style>\n",
       "<table border=\"1\" class=\"dataframe\">\n",
       "  <thead>\n",
       "    <tr style=\"text-align: right;\">\n",
       "      <th></th>\n",
       "      <th>title</th>\n",
       "      <th>dates</th>\n",
       "      <th>address</th>\n",
       "    </tr>\n",
       "  </thead>\n",
       "  <tbody>\n",
       "    <tr>\n",
       "      <th>0</th>\n",
       "      <td>\"RNA 적용\" 큐로셀, CAR-T+면역관문억제제…바이오오케스트라, 치매 잡는 뇌세...</td>\n",
       "      <td>2022-04-13 08:45</td>\n",
       "      <td>https://www.medigatenews.com/news/999526012</td>\n",
       "    </tr>\n",
       "    <tr>\n",
       "      <th>1</th>\n",
       "      <td>\"난치·만성질환 극복 도전\" 엔솔바이오 골관절염 펩타이드신약·바이옴로직 황반변성 마...</td>\n",
       "      <td>2022-04-13 08:44</td>\n",
       "      <td>https://www.medigatenews.com/news/2163570408</td>\n",
       "    </tr>\n",
       "    <tr>\n",
       "      <th>2</th>\n",
       "      <td>1분기 국내 제약사와 VC들이 투자한 바이오사는…대기업도 전략적투자자로 적극 참여</td>\n",
       "      <td>2022-04-13 06:42</td>\n",
       "      <td>https://www.medigatenews.com/news/2090928717</td>\n",
       "    </tr>\n",
       "    <tr>\n",
       "      <th>3</th>\n",
       "      <td>코로나특위, 코로나 비상대응 100일 로드맵 마련한다</td>\n",
       "      <td>2022-04-11 20:12</td>\n",
       "      <td>https://www.medigatenews.com/news/997077107</td>\n",
       "    </tr>\n",
       "    <tr>\n",
       "      <th>4</th>\n",
       "      <td>의료계, 정호영 장관 내정자에 환영 \"고질적 의료 문제 해결할 적임자\"</td>\n",
       "      <td>2022-04-11 05:48</td>\n",
       "      <td>https://www.medigatenews.com/news/1134765385</td>\n",
       "    </tr>\n",
       "  </tbody>\n",
       "</table>\n",
       "</div>"
      ],
      "text/plain": [
       "                                               title             dates  \\\n",
       "0  \"RNA 적용\" 큐로셀, CAR-T+면역관문억제제…바이오오케스트라, 치매 잡는 뇌세...  2022-04-13 08:45   \n",
       "1  \"난치·만성질환 극복 도전\" 엔솔바이오 골관절염 펩타이드신약·바이옴로직 황반변성 마...  2022-04-13 08:44   \n",
       "2      1분기 국내 제약사와 VC들이 투자한 바이오사는…대기업도 전략적투자자로 적극 참여  2022-04-13 06:42   \n",
       "3                      코로나특위, 코로나 비상대응 100일 로드맵 마련한다  2022-04-11 20:12   \n",
       "4            의료계, 정호영 장관 내정자에 환영 \"고질적 의료 문제 해결할 적임자\"  2022-04-11 05:48   \n",
       "\n",
       "                                        address  \n",
       "0   https://www.medigatenews.com/news/999526012  \n",
       "1  https://www.medigatenews.com/news/2163570408  \n",
       "2  https://www.medigatenews.com/news/2090928717  \n",
       "3   https://www.medigatenews.com/news/997077107  \n",
       "4  https://www.medigatenews.com/news/1134765385  "
      ]
     },
     "execution_count": 10,
     "metadata": {},
     "output_type": "execute_result"
    }
   ],
   "source": [
    "medi_gates.head()"
   ]
  },
  {
   "cell_type": "code",
   "execution_count": 11,
   "metadata": {},
   "outputs": [],
   "source": [
    "medi_gates.to_excel('medigates_v1.xlsx')"
   ]
  },
  {
   "cell_type": "code",
   "execution_count": 15,
   "metadata": {},
   "outputs": [
    {
     "data": {
      "text/html": [
       "<div>\n",
       "<style scoped>\n",
       "    .dataframe tbody tr th:only-of-type {\n",
       "        vertical-align: middle;\n",
       "    }\n",
       "\n",
       "    .dataframe tbody tr th {\n",
       "        vertical-align: top;\n",
       "    }\n",
       "\n",
       "    .dataframe thead th {\n",
       "        text-align: right;\n",
       "    }\n",
       "</style>\n",
       "<table border=\"1\" class=\"dataframe\">\n",
       "  <thead>\n",
       "    <tr style=\"text-align: right;\">\n",
       "      <th></th>\n",
       "      <th>title</th>\n",
       "      <th>dates</th>\n",
       "      <th>address</th>\n",
       "    </tr>\n",
       "  </thead>\n",
       "  <tbody>\n",
       "    <tr>\n",
       "      <th>1225</th>\n",
       "      <td>테라젠바이오, AI기반 환자분류 분자 아형 산출장치 'DeepOmics Marker...</td>\n",
       "      <td>2022-04-07 15:34</td>\n",
       "      <td>https://www.medigatenews.com/news/1630465467?c...</td>\n",
       "    </tr>\n",
       "    <tr>\n",
       "      <th>1226</th>\n",
       "      <td>고려대 메디사이언스파크에 항암신약 GMP 시설 조성</td>\n",
       "      <td>2022-04-07 13:32</td>\n",
       "      <td>https://www.medigatenews.com/news/2208421518?c...</td>\n",
       "    </tr>\n",
       "    <tr>\n",
       "      <th>1227</th>\n",
       "      <td>베링거인겔하임, 탄탄한 실적으로 R&amp;D 투자 순항</td>\n",
       "      <td>2022-04-06 16:48</td>\n",
       "      <td>https://www.medigatenews.com/news/1421179349?c...</td>\n",
       "    </tr>\n",
       "    <tr>\n",
       "      <th>1228</th>\n",
       "      <td>광동제약, 비만치료제 마이크로니들 공동개발 추진</td>\n",
       "      <td>2022-04-06 10:44</td>\n",
       "      <td>https://www.medigatenews.com/news/2561316403?c...</td>\n",
       "    </tr>\n",
       "    <tr>\n",
       "      <th>1229</th>\n",
       "      <td>\"Moderna will try to execute our strategy to a...</td>\n",
       "      <td>2021-12-12 13:27</td>\n",
       "      <td>https://www.medigatenews.com/news/3430186822?c...</td>\n",
       "    </tr>\n",
       "  </tbody>\n",
       "</table>\n",
       "</div>"
      ],
      "text/plain": [
       "                                                  title             dates  \\\n",
       "1225  테라젠바이오, AI기반 환자분류 분자 아형 산출장치 'DeepOmics Marker...  2022-04-07 15:34   \n",
       "1226                       고려대 메디사이언스파크에 항암신약 GMP 시설 조성  2022-04-07 13:32   \n",
       "1227                        베링거인겔하임, 탄탄한 실적으로 R&D 투자 순항  2022-04-06 16:48   \n",
       "1228                         광동제약, 비만치료제 마이크로니들 공동개발 추진  2022-04-06 10:44   \n",
       "1229  \"Moderna will try to execute our strategy to a...  2021-12-12 13:27   \n",
       "\n",
       "                                                address  \n",
       "1225  https://www.medigatenews.com/news/1630465467?c...  \n",
       "1226  https://www.medigatenews.com/news/2208421518?c...  \n",
       "1227  https://www.medigatenews.com/news/1421179349?c...  \n",
       "1228  https://www.medigatenews.com/news/2561316403?c...  \n",
       "1229  https://www.medigatenews.com/news/3430186822?c...  "
      ]
     },
     "execution_count": 15,
     "metadata": {},
     "output_type": "execute_result"
    }
   ],
   "source": [
    "medi_gates.tail(5)"
   ]
  },
  {
   "cell_type": "code",
   "execution_count": null,
   "metadata": {},
   "outputs": [],
   "source": [
    "sub_text_list = []\n",
    "text_list = []\n",
    "\n",
    "k= 0\n",
    "\n",
    "for i in medi_gates['address']:\n",
    "    driver.get(i)\n",
    "    page = driver.page_source\n",
    "    soup = BeautifulSoup(page, 'html.parser')\n",
    "\n",
    "    try:\n",
    "        sub_text = soup.find('p', class_ = 'subtxt').text.replace('\\n','')\n",
    "        if len(sub_text)>=1:\n",
    "            sub_text_list.append(sub_text)\n",
    "        else:\n",
    "            sub_text_list.append('sub_text없음')\n",
    "    except:\n",
    "        sub_text_list.append('error')\n",
    "\n",
    "    try :\n",
    "        text = soup.find_all('div', class_='contarea')\n",
    "        if len(text)>=1:\n",
    "            text_list.append(text)\n",
    "        else:\n",
    "            text_list.append('text없음')\n",
    "    except:\n",
    "        text_list.append('error')\n",
    "\n",
    "    k+=1\n",
    "    print('---------------------------------',len(medi_gates['address'])-k, '남음---------------------------------')\n",
    "\n",
    "    "
   ]
  },
  {
   "cell_type": "code",
   "execution_count": 48,
   "metadata": {},
   "outputs": [],
   "source": [
    "medi_gates['부제목'] = sub_text_list\n",
    "medi_gates['내용'] = text_list"
   ]
  },
  {
   "cell_type": "code",
   "execution_count": 49,
   "metadata": {},
   "outputs": [
    {
     "data": {
      "text/html": [
       "<div>\n",
       "<style scoped>\n",
       "    .dataframe tbody tr th:only-of-type {\n",
       "        vertical-align: middle;\n",
       "    }\n",
       "\n",
       "    .dataframe tbody tr th {\n",
       "        vertical-align: top;\n",
       "    }\n",
       "\n",
       "    .dataframe thead th {\n",
       "        text-align: right;\n",
       "    }\n",
       "</style>\n",
       "<table border=\"1\" class=\"dataframe\">\n",
       "  <thead>\n",
       "    <tr style=\"text-align: right;\">\n",
       "      <th></th>\n",
       "      <th>title</th>\n",
       "      <th>dates</th>\n",
       "      <th>address</th>\n",
       "      <th>부제목</th>\n",
       "      <th>내용</th>\n",
       "    </tr>\n",
       "  </thead>\n",
       "  <tbody>\n",
       "    <tr>\n",
       "      <th>0</th>\n",
       "      <td>\"RNA 적용\" 큐로셀, CAR-T+면역관문억제제…바이오오케스트라, 치매 잡는 뇌세...</td>\n",
       "      <td>2022-04-13 08:45</td>\n",
       "      <td>https://www.medigatenews.com/news/999526012</td>\n",
       "      <td>[K-바이오텍 성장 전략①] 오토텔릭바이오, ASO 기반 면역표적항암제, NASH치...</td>\n",
       "      <td>[[\\n, [&lt;strong&gt;K-바이오텍 성장 전략 &lt;/strong&gt;, &lt;br/&gt;, ...</td>\n",
       "    </tr>\n",
       "    <tr>\n",
       "      <th>1</th>\n",
       "      <td>\"난치·만성질환 극복 도전\" 엔솔바이오 골관절염 펩타이드신약·바이옴로직 황반변성 마...</td>\n",
       "      <td>2022-04-13 08:44</td>\n",
       "      <td>https://www.medigatenews.com/news/2163570408</td>\n",
       "      <td>[K-바이오텍 성장 전략②] 진단 분야의 다양성 확대…지노믹트리 암 분야 확장·레보...</td>\n",
       "      <td>[[\\n, [&lt;strong&gt;K-바이오텍 성장 전략 &lt;/strong&gt;, &lt;br/&gt;, ...</td>\n",
       "    </tr>\n",
       "    <tr>\n",
       "      <th>2</th>\n",
       "      <td>1분기 국내 제약사와 VC들이 투자한 바이오사는…대기업도 전략적투자자로 적극 참여</td>\n",
       "      <td>2022-04-13 06:42</td>\n",
       "      <td>https://www.medigatenews.com/news/2090928717</td>\n",
       "      <td>보타메디 해외서 8000억원 유치해 투자규모 최대…투자금 대부분 항암제 개발사 몰려</td>\n",
       "      <td>[[\\n, [\\n, &lt;figure class=\"image\" style=\"displa...</td>\n",
       "    </tr>\n",
       "    <tr>\n",
       "      <th>3</th>\n",
       "      <td>코로나특위, 코로나 비상대응 100일 로드맵 마련한다</td>\n",
       "      <td>2022-04-11 20:12</td>\n",
       "      <td>https://www.medigatenews.com/news/997077107</td>\n",
       "      <td>11일 제10차 회의서 로드맵 관련 논의 진행...안철수 위원장 \"방역∙의료대응 체...</td>\n",
       "      <td>[[\\n, [\\n, &lt;figure class=\"image\" style=\"displa...</td>\n",
       "    </tr>\n",
       "    <tr>\n",
       "      <th>4</th>\n",
       "      <td>의료계, 정호영 장관 내정자에 환영 \"고질적 의료 문제 해결할 적임자\"</td>\n",
       "      <td>2022-04-11 05:48</td>\n",
       "      <td>https://www.medigatenews.com/news/1134765385</td>\n",
       "      <td>\"감염병 사태 극복 위한 경험 충분...지방의료, 기피과, 필수의료 문제 해결까지 기대\"</td>\n",
       "      <td>[[\\n, [\\n, &lt;figure class=\"image\" style=\"displa...</td>\n",
       "    </tr>\n",
       "  </tbody>\n",
       "</table>\n",
       "</div>"
      ],
      "text/plain": [
       "                                               title             dates  \\\n",
       "0  \"RNA 적용\" 큐로셀, CAR-T+면역관문억제제…바이오오케스트라, 치매 잡는 뇌세...  2022-04-13 08:45   \n",
       "1  \"난치·만성질환 극복 도전\" 엔솔바이오 골관절염 펩타이드신약·바이옴로직 황반변성 마...  2022-04-13 08:44   \n",
       "2      1분기 국내 제약사와 VC들이 투자한 바이오사는…대기업도 전략적투자자로 적극 참여  2022-04-13 06:42   \n",
       "3                      코로나특위, 코로나 비상대응 100일 로드맵 마련한다  2022-04-11 20:12   \n",
       "4            의료계, 정호영 장관 내정자에 환영 \"고질적 의료 문제 해결할 적임자\"  2022-04-11 05:48   \n",
       "\n",
       "                                        address  \\\n",
       "0   https://www.medigatenews.com/news/999526012   \n",
       "1  https://www.medigatenews.com/news/2163570408   \n",
       "2  https://www.medigatenews.com/news/2090928717   \n",
       "3   https://www.medigatenews.com/news/997077107   \n",
       "4  https://www.medigatenews.com/news/1134765385   \n",
       "\n",
       "                                                 부제목  \\\n",
       "0  [K-바이오텍 성장 전략①] 오토텔릭바이오, ASO 기반 면역표적항암제, NASH치...   \n",
       "1  [K-바이오텍 성장 전략②] 진단 분야의 다양성 확대…지노믹트리 암 분야 확장·레보...   \n",
       "2     보타메디 해외서 8000억원 유치해 투자규모 최대…투자금 대부분 항암제 개발사 몰려   \n",
       "3  11일 제10차 회의서 로드맵 관련 논의 진행...안철수 위원장 \"방역∙의료대응 체...   \n",
       "4  \"감염병 사태 극복 위한 경험 충분...지방의료, 기피과, 필수의료 문제 해결까지 기대\"   \n",
       "\n",
       "                                                  내용  \n",
       "0  [[\\n, [<strong>K-바이오텍 성장 전략 </strong>, <br/>, ...  \n",
       "1  [[\\n, [<strong>K-바이오텍 성장 전략 </strong>, <br/>, ...  \n",
       "2  [[\\n, [\\n, <figure class=\"image\" style=\"displa...  \n",
       "3  [[\\n, [\\n, <figure class=\"image\" style=\"displa...  \n",
       "4  [[\\n, [\\n, <figure class=\"image\" style=\"displa...  "
      ]
     },
     "execution_count": 49,
     "metadata": {},
     "output_type": "execute_result"
    }
   ],
   "source": [
    "medi_gates.head()"
   ]
  },
  {
   "cell_type": "code",
   "execution_count": 107,
   "metadata": {},
   "outputs": [],
   "source": [
    "text_list = []\n",
    "\n",
    "for num, i in enumerate(medi_gates['내용']):\n",
    "    try:\n",
    "        for k in i:\n",
    "            # print(k.text)\n",
    "            try:\n",
    "                k2 = k.text\n",
    "                k2 = k2.replace('\\n','.')\n",
    "                text_list.append(k2)\n",
    "            except AttributeError:\n",
    "                # print(num)\n",
    "                text_list.append(k2)\n",
    "                pass\n",
    "    except:\n",
    "        print(num)"
   ]
  },
  {
   "cell_type": "code",
   "execution_count": 122,
   "metadata": {},
   "outputs": [
    {
     "name": "stdout",
     "output_type": "stream",
     "text": [
      "text없음\n",
      "1229\n"
     ]
    }
   ],
   "source": [
    "z=0\n",
    "list_text = []\n",
    "for i in medi_gates['내용']:\n",
    "    try:\n",
    "        for k in i:\n",
    "            text = k.text\n",
    "            list_text.append(text)\n",
    "            z+=1\n",
    "            pass\n",
    "    except:\n",
    "        print(i)\n",
    "        list_text.append(i)\n",
    "        # for k in i:\n",
    "        #     print(k)\n",
    "        # print(i)\n",
    "\n",
    "print(z)\n"
   ]
  },
  {
   "cell_type": "code",
   "execution_count": 140,
   "metadata": {},
   "outputs": [],
   "source": [
    "text_list_v2 =[]\n",
    "\n",
    "for i in list_text:\n",
    "    i = i.split(']')[-1]\n",
    "    i =i.strip()\n",
    "    # i = i.split(']')[-1]\n",
    "    # print(i)\n",
    "    text_list_v2.append(i)"
   ]
  },
  {
   "cell_type": "code",
   "execution_count": 141,
   "metadata": {},
   "outputs": [],
   "source": [
    "medi_gates['내용'] = text_list_v2"
   ]
  },
  {
   "cell_type": "code",
   "execution_count": 142,
   "metadata": {},
   "outputs": [],
   "source": [
    "medi_gates.to_excel('[0413]medigate_final.xlsx')"
   ]
  },
  {
   "cell_type": "code",
   "execution_count": null,
   "metadata": {},
   "outputs": [],
   "source": []
  }
 ],
 "metadata": {
  "interpreter": {
   "hash": "8a9b21863f75ebcfde942d40d1f95bee56211276a785a24dd93ce5903183bd65"
  },
  "kernelspec": {
   "display_name": "Python 3.8.11 ('crawling')",
   "language": "python",
   "name": "python3"
  },
  "language_info": {
   "codemirror_mode": {
    "name": "ipython",
    "version": 3
   },
   "file_extension": ".py",
   "mimetype": "text/x-python",
   "name": "python",
   "nbconvert_exporter": "python",
   "pygments_lexer": "ipython3",
   "version": "3.8.11"
  },
  "orig_nbformat": 4
 },
 "nbformat": 4,
 "nbformat_minor": 2
}
